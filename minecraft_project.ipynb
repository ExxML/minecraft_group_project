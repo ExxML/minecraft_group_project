{
 "cells": [
  {
   "cell_type": "markdown",
   "id": "5eb5f911-0409-4a5d-a57c-7bf27ac22ef9",
   "metadata": {},
   "source": [
    "# Welcome to the Minecraft Group Project!"
   ]
  },
  {
   "cell_type": "markdown",
   "id": "db8ebd4e-05ad-4452-a826-91019b37ea76",
   "metadata": {},
   "source": [
    "## <ins>Introduction</ins>\n",
    "Due to COVID-19 and the strict lockdown policies imposed in many countries, a huge surge of gamers was observed in 2020, with the numbers racing up to 2.7 billion. Given this, many studies have been conducted on how gamers play video games and how video games can affect an individual’s well-being, cognitive performance and brain activity ([Johannes et al., 2021](https://doi.org/10.1098/rsos.202049); [Jordan & Dhamala, 2022](https://doi.org/10.1016/j.ynirp.2022.100112)).\n",
    "\n",
    "Despite the global increase in the number of gamers and the potential advantages associated with video gaming, numerous studies have been hindered by limited sample sizes ([Alonso-Fernández et al., 2019](https://doi.org/10.1016/j.compedu.2019.103612); [Petri & Gresse, 2017](https://doi.org/10.1016/j.compedu.2017.01.004)) and inaccuracies stemming from reliance on self-reported engagement metrics ([Johannes et al., 2021](https://doi.org/10.1098/rsos.202049)). Addressing these critical issues, a team of computer scientists from the University of British Columbia, known as PLAICraft, has developed a study that automates data collection during players' gaming sessions in Minecraft. This approach alleviates concerns related to self-evaluation. Furthermore, PLAICraft aims to identify specific player types that are likely to generate a greater volume of data based on previous datasets, which will serve as the central focus of this paper. Specifically, this paper will investigate what gender is likely to contribute more data based on the K-NN classification model based on the Age and Total Playtime of the players.\n",
    "\n",
    "The dataset being used in this study, derived from `players.csv` (courtesy of PLAICraft team; [here](https://drive.google.com/uc?export=download&id=1Mw9vW0hjTJwRWx0bDXiSpYsO3gKogaPz)), contains a total of 196 observations and nine variables. These variables are listed and described in the table below:"
   ]
  },
  {
   "cell_type": "markdown",
   "id": "780cb566-f8fe-401a-af0e-489c2fd3d77f",
   "metadata": {},
   "source": [
    "<!DOCTYPE html>\n",
    "<html>\n",
    "<body>\n",
    "    <table style=\"border-collapse: collapse; width: 40%; margin: auto auto; table-layout: auto; border: 0px solid black;\">\n",
    "        <caption style=\"font-size: 1.1em; font-weight: bold; margin-bottom: 5px; text-align: center;\">\n",
    "            Table 1: The Name of the Variables, Its Data Type and Meaning\n",
    "        </caption>\n",
    "        <tr>\n",
    "            <th style=\"border: 0px solid black; text-align: center; padding: 10px;\">Name</th>\n",
    "            <th style=\"border: 0px solid black; text-align: center; padding: 10px;\">Data Type</th>\n",
    "            <th style=\"border: 0px solid black; text-align: center; padding: 10px;\">Meaning</th>\n",
    "        </tr>\n",
    "        <tr style=\"border: 0px solid black;\">\n",
    "            <td style=\"border: 0px solid black; text-align: left; padding: 8px;\">Experience</td>\n",
    "            <td style=\"border: 0px solid black; text-align: center; padding: 8px;\">chr</td>\n",
    "            <td style=\"border: 0px solid black; text-align: left; padding: 8px;\">Self-evaluated experience with Minecraft</td>\n",
    "        </tr>\n",
    "        <tr style=\"border: 0px solid black;\">\n",
    "            <td style=\"border: 0px solid black; text-align: left; padding: 8px;\">Subscribe</td>\n",
    "            <td style=\"border: 0px solid black; text-align: center; padding: 8px;\">lgl</td>\n",
    "            <td style=\"border: 0px solid black; text-align: left; padding: 8px;\">Declarations to receive email updates</td>\n",
    "        </tr>\n",
    "        <tr style=\"border: 0px solid black;\">\n",
    "            <td style=\"border: 0px solid black; text-align: left; padding: 8px;\">Hashed Email</td>\n",
    "            <td style=\"border: 0px solid black; text-align: center; padding: 8px;\">chr</td>\n",
    "            <td style=\"border: 0px solid black; text-align: left; padding: 8px;\">Encrypted email via Hash</td>\n",
    "        </tr>\n",
    "        <tr style=\"border: 0px solid black;\">\n",
    "            <td style=\"border: 0px solid black; text-align: left; padding: 8px;\">Played Hours</td>\n",
    "            <td style=\"border: 0px solid black; text-align: center; padding: 8px;\">dbl</td>\n",
    "            <td style=\"border: 0px solid black; text-align: left; padding: 8px;\">Total played hours</td>\n",
    "        </tr>\n",
    "        <tr style=\"border: 0px solid black;\">\n",
    "            <td style=\"border: 0px solid black; text-align: left; padding: 8px;\">Name</td>\n",
    "            <td style=\"border: 0px solid black; text-align: center; padding: 8px;\">chr</td>\n",
    "            <td style=\"border: 0px solid black; text-align: left; padding: 8px;\">A fake name used in-game</td>\n",
    "        </tr>\n",
    "        <tr style=\"border: 0px solid black;\">\n",
    "            <td style=\"border: 0px solid black; text-align: left; padding: 8px;\">Gender</td>\n",
    "            <td style=\"border: 0px solid black; text-align: center; padding: 8px;\">chr</td>\n",
    "            <td style=\"border: 0px solid black; text-align: left; padding: 8px;\">Gender of players</td>\n",
    "        </tr>\n",
    "        <tr style=\"border: 0px solid black;\">\n",
    "            <td style=\"border: 0px solid black; text-align: left; padding: 8px;\">Age</td>\n",
    "            <td style=\"border: 0px solid black; text-align: center; padding: 8px;\">dbl</td>\n",
    "            <td style=\"border: 0px solid black; text-align: left; padding: 8px;\">Age of players</td>\n",
    "        </tr>\n",
    "        <tr style=\"border: 0px solid black;\">\n",
    "            <td style=\"border: 0px solid black; text-align: left; padding: 8px;\">Individual ID</td>\n",
    "            <td style=\"border: 0px solid black; text-align: center; padding: 8px;\">chr</td>\n",
    "            <td style=\"border: 0px solid black; text-align: left; padding: 8px;\">The player's ID in-game</td>\n",
    "        </tr>\n",
    "        <tr style=\"border: 0px solid black;\">\n",
    "            <td style=\"border: 0px solid black; text-align: left; padding: 8px;\">Organization Name</td>\n",
    "            <td style=\"border: 0px solid black; text-align: center; padding: 8px;\">chr</td>\n",
    "            <td style=\"border: 0px solid black; text-align: left; padding: 8px;\">The name of the players’ school/organization</td>\n",
    "        </tr>\n",
    "    </table>\n",
    "</body>\n",
    "</html>\n"
   ]
  },
  {
   "cell_type": "markdown",
   "id": "6e4c2f7d-a145-4357-96a8-35ca27f86b35",
   "metadata": {},
   "source": [
    "It is important to note while the data can be used to provide meaningful insights into relevant topics, there are potential issues that exist in this data. This includes (1) missing values for `Individual ID` and `Organization Name` (e.g. reported as NA), (2) potential inaccuracy in the self-reported age (e.g. age 91 and 99) and (3) playtime might not correlate to contribution levels to the study (e.g microphone can also be used)"
   ]
  },
  {
   "cell_type": "markdown",
   "id": "63815ebb-0a71-4ce3-a55a-48bca5ae4e37",
   "metadata": {},
   "source": [
    "## <ins>Methods & Results</ins>\n",
    "*   **Methods & Results**:\n",
    "    *   describe the methods you used to perform your analysis from beginning to end that narrates the analysis code.\n",
    "    *   your report should include code which:\n",
    "        *   loads data  \n",
    "        *   wrangles and cleans the data to the format necessary for the planned analysis\n",
    "        *   performs a summary of the data set that is relevant for exploratory data analysis related to the planned analysis \n",
    "        *   creates a visualization of the dataset that is relevant for exploratory data analysis related to the planned analysis\n",
    "        *   performs the data analysis\n",
    "        *   creates a visualization of the analysis \n",
    "        *   _note: all figures should have a figure number and a legend_"
   ]
  },
  {
   "cell_type": "code",
   "execution_count": 1,
   "id": "ca3f7e2b-216d-472e-a2b4-c3c79908c817",
   "metadata": {},
   "outputs": [
    {
     "name": "stderr",
     "output_type": "stream",
     "text": [
      "── \u001b[1mAttaching core tidyverse packages\u001b[22m ──────────────────────── tidyverse 2.0.0 ──\n",
      "\u001b[32m✔\u001b[39m \u001b[34mdplyr    \u001b[39m 1.1.4     \u001b[32m✔\u001b[39m \u001b[34mreadr    \u001b[39m 2.1.5\n",
      "\u001b[32m✔\u001b[39m \u001b[34mforcats  \u001b[39m 1.0.0     \u001b[32m✔\u001b[39m \u001b[34mstringr  \u001b[39m 1.5.1\n",
      "\u001b[32m✔\u001b[39m \u001b[34mggplot2  \u001b[39m 3.5.1     \u001b[32m✔\u001b[39m \u001b[34mtibble   \u001b[39m 3.2.1\n",
      "\u001b[32m✔\u001b[39m \u001b[34mlubridate\u001b[39m 1.9.3     \u001b[32m✔\u001b[39m \u001b[34mtidyr    \u001b[39m 1.3.1\n",
      "\u001b[32m✔\u001b[39m \u001b[34mpurrr    \u001b[39m 1.0.2     \n",
      "── \u001b[1mConflicts\u001b[22m ────────────────────────────────────────── tidyverse_conflicts() ──\n",
      "\u001b[31m✖\u001b[39m \u001b[34mdplyr\u001b[39m::\u001b[32mfilter()\u001b[39m masks \u001b[34mstats\u001b[39m::filter()\n",
      "\u001b[31m✖\u001b[39m \u001b[34mdplyr\u001b[39m::\u001b[32mlag()\u001b[39m    masks \u001b[34mstats\u001b[39m::lag()\n",
      "\u001b[36mℹ\u001b[39m Use the conflicted package (\u001b[3m\u001b[34m<http://conflicted.r-lib.org/>\u001b[39m\u001b[23m) to force all conflicts to become errors\n",
      "── \u001b[1mAttaching packages\u001b[22m ────────────────────────────────────── tidymodels 1.1.1 ──\n",
      "\n",
      "\u001b[32m✔\u001b[39m \u001b[34mbroom       \u001b[39m 1.0.6     \u001b[32m✔\u001b[39m \u001b[34mrsample     \u001b[39m 1.2.1\n",
      "\u001b[32m✔\u001b[39m \u001b[34mdials       \u001b[39m 1.3.0     \u001b[32m✔\u001b[39m \u001b[34mtune        \u001b[39m 1.1.2\n",
      "\u001b[32m✔\u001b[39m \u001b[34minfer       \u001b[39m 1.0.7     \u001b[32m✔\u001b[39m \u001b[34mworkflows   \u001b[39m 1.1.4\n",
      "\u001b[32m✔\u001b[39m \u001b[34mmodeldata   \u001b[39m 1.4.0     \u001b[32m✔\u001b[39m \u001b[34mworkflowsets\u001b[39m 1.0.1\n",
      "\u001b[32m✔\u001b[39m \u001b[34mparsnip     \u001b[39m 1.2.1     \u001b[32m✔\u001b[39m \u001b[34myardstick   \u001b[39m 1.3.1\n",
      "\u001b[32m✔\u001b[39m \u001b[34mrecipes     \u001b[39m 1.1.0     \n",
      "\n",
      "── \u001b[1mConflicts\u001b[22m ───────────────────────────────────────── tidymodels_conflicts() ──\n",
      "\u001b[31m✖\u001b[39m \u001b[34mscales\u001b[39m::\u001b[32mdiscard()\u001b[39m masks \u001b[34mpurrr\u001b[39m::discard()\n",
      "\u001b[31m✖\u001b[39m \u001b[34mdplyr\u001b[39m::\u001b[32mfilter()\u001b[39m   masks \u001b[34mstats\u001b[39m::filter()\n",
      "\u001b[31m✖\u001b[39m \u001b[34mrecipes\u001b[39m::\u001b[32mfixed()\u001b[39m  masks \u001b[34mstringr\u001b[39m::fixed()\n",
      "\u001b[31m✖\u001b[39m \u001b[34mdplyr\u001b[39m::\u001b[32mlag()\u001b[39m      masks \u001b[34mstats\u001b[39m::lag()\n",
      "\u001b[31m✖\u001b[39m \u001b[34myardstick\u001b[39m::\u001b[32mspec()\u001b[39m masks \u001b[34mreadr\u001b[39m::spec()\n",
      "\u001b[31m✖\u001b[39m \u001b[34mrecipes\u001b[39m::\u001b[32mstep()\u001b[39m   masks \u001b[34mstats\u001b[39m::step()\n",
      "\u001b[34m•\u001b[39m Learn how to get started at \u001b[32mhttps://www.tidymodels.org/start/\u001b[39m\n",
      "\n",
      "\n",
      "Attaching package: ‘cowplot’\n",
      "\n",
      "\n",
      "The following object is masked from ‘package:lubridate’:\n",
      "\n",
      "    stamp\n",
      "\n",
      "\n"
     ]
    }
   ],
   "source": [
    "library(repr)\n",
    "library(tidyverse)\n",
    "library(tidymodels)\n",
    "library(cowplot)"
   ]
  },
  {
   "cell_type": "markdown",
   "id": "68dfa2b5-cc03-4368-ac57-b90d0e404a8a",
   "metadata": {},
   "source": [
    "### (1) Load the Data\n",
    "After examining that the data is of .csv files with the delimiter as a common (i.e. \",\"), we read in the data using the `read_csv()` as provided by `tidyverse` package using the URL given by the PLAICraft team."
   ]
  },
  {
   "cell_type": "code",
   "execution_count": 2,
   "id": "de8bcf4f-6fba-4212-92d7-73635e7a5006",
   "metadata": {},
   "outputs": [
    {
     "name": "stderr",
     "output_type": "stream",
     "text": [
      "\u001b[1mRows: \u001b[22m\u001b[34m196\u001b[39m \u001b[1mColumns: \u001b[22m\u001b[34m9\u001b[39m\n",
      "\u001b[36m──\u001b[39m \u001b[1mColumn specification\u001b[22m \u001b[36m────────────────────────────────────────────────────────\u001b[39m\n",
      "\u001b[1mDelimiter:\u001b[22m \",\"\n",
      "\u001b[31mchr\u001b[39m (4): experience, hashedEmail, name, gender\n",
      "\u001b[32mdbl\u001b[39m (2): played_hours, age\n",
      "\u001b[33mlgl\u001b[39m (3): subscribe, individualId, organizationName\n",
      "\n",
      "\u001b[36mℹ\u001b[39m Use `spec()` to retrieve the full column specification for this data.\n",
      "\u001b[36mℹ\u001b[39m Specify the column types or set `show_col_types = FALSE` to quiet this message.\n"
     ]
    },
    {
     "data": {
      "text/html": [
       "<table class=\"dataframe\">\n",
       "<caption>A tibble: 10 × 9</caption>\n",
       "<thead>\n",
       "\t<tr><th scope=col>experience</th><th scope=col>subscribe</th><th scope=col>hashedEmail</th><th scope=col>played_hours</th><th scope=col>name</th><th scope=col>gender</th><th scope=col>age</th><th scope=col>individualId</th><th scope=col>organizationName</th></tr>\n",
       "\t<tr><th scope=col>&lt;chr&gt;</th><th scope=col>&lt;lgl&gt;</th><th scope=col>&lt;chr&gt;</th><th scope=col>&lt;dbl&gt;</th><th scope=col>&lt;chr&gt;</th><th scope=col>&lt;chr&gt;</th><th scope=col>&lt;dbl&gt;</th><th scope=col>&lt;lgl&gt;</th><th scope=col>&lt;lgl&gt;</th></tr>\n",
       "</thead>\n",
       "<tbody>\n",
       "\t<tr><td>Pro    </td><td> TRUE</td><td>f6daba428a5e19a3d47574858c13550499be23603422e6a0ee9728f8b53e192d</td><td>30.3</td><td>Morgan   </td><td>Male  </td><td> 9</td><td>NA</td><td>NA</td></tr>\n",
       "\t<tr><td>Veteran</td><td> TRUE</td><td>f3c813577c458ba0dfef80996f8f32c93b6e8af1fa939732842f2312358a88e9</td><td> 3.8</td><td>Christian</td><td>Male  </td><td>17</td><td>NA</td><td>NA</td></tr>\n",
       "\t<tr><td>Veteran</td><td>FALSE</td><td>b674dd7ee0d24096d1c019615ce4d12b20fcbff12d79d3c5a9d2118eb7ccbb28</td><td> 0.0</td><td>Blake    </td><td>Male  </td><td>17</td><td>NA</td><td>NA</td></tr>\n",
       "\t<tr><td>Amateur</td><td> TRUE</td><td>23fe711e0e3b77f1da7aa221ab1192afe21648d47d2b4fa7a5a659ff443a0eb5</td><td> 0.7</td><td>Flora    </td><td>Female</td><td>21</td><td>NA</td><td>NA</td></tr>\n",
       "\t<tr><td>Regular</td><td> TRUE</td><td>7dc01f10bf20671ecfccdac23812b1b415acd42c2147cb0af4d48fcce2420f3e</td><td> 0.1</td><td>Kylie    </td><td>Male  </td><td>21</td><td>NA</td><td>NA</td></tr>\n",
       "\t<tr><td>Amateur</td><td> TRUE</td><td>f58aad5996a435f16b0284a3b267f973f9af99e7a89bee0430055a44fa92f977</td><td> 0.0</td><td>Adrian   </td><td>Female</td><td>17</td><td>NA</td><td>NA</td></tr>\n",
       "\t<tr><td>Regular</td><td> TRUE</td><td>8e594b8953193b26f498db95a508b03c6fe1c24bb5251d392c18a0da9a722807</td><td> 0.0</td><td>Luna     </td><td>Female</td><td>19</td><td>NA</td><td>NA</td></tr>\n",
       "\t<tr><td>Amateur</td><td>FALSE</td><td>1d2371d8a35c8831034b25bda8764539ab7db0f63938696917c447128a2540dd</td><td> 0.0</td><td>Emerson  </td><td>Male  </td><td>21</td><td>NA</td><td>NA</td></tr>\n",
       "\t<tr><td>Amateur</td><td> TRUE</td><td>8b71f4d66a38389b7528bb38ba6eb71157733df7d1740371852a797ae97d82d1</td><td> 0.1</td><td>Natalie  </td><td>Male  </td><td>17</td><td>NA</td><td>NA</td></tr>\n",
       "\t<tr><td>Veteran</td><td> TRUE</td><td>bbe2d83de678f519c4b3daa7265e683b4fe2d814077f9094afd11d8f217039ec</td><td> 0.0</td><td>Nyla     </td><td>Female</td><td>22</td><td>NA</td><td>NA</td></tr>\n",
       "</tbody>\n",
       "</table>\n"
      ],
      "text/latex": [
       "A tibble: 10 × 9\n",
       "\\begin{tabular}{lllllllll}\n",
       " experience & subscribe & hashedEmail & played\\_hours & name & gender & age & individualId & organizationName\\\\\n",
       " <chr> & <lgl> & <chr> & <dbl> & <chr> & <chr> & <dbl> & <lgl> & <lgl>\\\\\n",
       "\\hline\n",
       "\t Pro     &  TRUE & f6daba428a5e19a3d47574858c13550499be23603422e6a0ee9728f8b53e192d & 30.3 & Morgan    & Male   &  9 & NA & NA\\\\\n",
       "\t Veteran &  TRUE & f3c813577c458ba0dfef80996f8f32c93b6e8af1fa939732842f2312358a88e9 &  3.8 & Christian & Male   & 17 & NA & NA\\\\\n",
       "\t Veteran & FALSE & b674dd7ee0d24096d1c019615ce4d12b20fcbff12d79d3c5a9d2118eb7ccbb28 &  0.0 & Blake     & Male   & 17 & NA & NA\\\\\n",
       "\t Amateur &  TRUE & 23fe711e0e3b77f1da7aa221ab1192afe21648d47d2b4fa7a5a659ff443a0eb5 &  0.7 & Flora     & Female & 21 & NA & NA\\\\\n",
       "\t Regular &  TRUE & 7dc01f10bf20671ecfccdac23812b1b415acd42c2147cb0af4d48fcce2420f3e &  0.1 & Kylie     & Male   & 21 & NA & NA\\\\\n",
       "\t Amateur &  TRUE & f58aad5996a435f16b0284a3b267f973f9af99e7a89bee0430055a44fa92f977 &  0.0 & Adrian    & Female & 17 & NA & NA\\\\\n",
       "\t Regular &  TRUE & 8e594b8953193b26f498db95a508b03c6fe1c24bb5251d392c18a0da9a722807 &  0.0 & Luna      & Female & 19 & NA & NA\\\\\n",
       "\t Amateur & FALSE & 1d2371d8a35c8831034b25bda8764539ab7db0f63938696917c447128a2540dd &  0.0 & Emerson   & Male   & 21 & NA & NA\\\\\n",
       "\t Amateur &  TRUE & 8b71f4d66a38389b7528bb38ba6eb71157733df7d1740371852a797ae97d82d1 &  0.1 & Natalie   & Male   & 17 & NA & NA\\\\\n",
       "\t Veteran &  TRUE & bbe2d83de678f519c4b3daa7265e683b4fe2d814077f9094afd11d8f217039ec &  0.0 & Nyla      & Female & 22 & NA & NA\\\\\n",
       "\\end{tabular}\n"
      ],
      "text/markdown": [
       "\n",
       "A tibble: 10 × 9\n",
       "\n",
       "| experience &lt;chr&gt; | subscribe &lt;lgl&gt; | hashedEmail &lt;chr&gt; | played_hours &lt;dbl&gt; | name &lt;chr&gt; | gender &lt;chr&gt; | age &lt;dbl&gt; | individualId &lt;lgl&gt; | organizationName &lt;lgl&gt; |\n",
       "|---|---|---|---|---|---|---|---|---|\n",
       "| Pro     |  TRUE | f6daba428a5e19a3d47574858c13550499be23603422e6a0ee9728f8b53e192d | 30.3 | Morgan    | Male   |  9 | NA | NA |\n",
       "| Veteran |  TRUE | f3c813577c458ba0dfef80996f8f32c93b6e8af1fa939732842f2312358a88e9 |  3.8 | Christian | Male   | 17 | NA | NA |\n",
       "| Veteran | FALSE | b674dd7ee0d24096d1c019615ce4d12b20fcbff12d79d3c5a9d2118eb7ccbb28 |  0.0 | Blake     | Male   | 17 | NA | NA |\n",
       "| Amateur |  TRUE | 23fe711e0e3b77f1da7aa221ab1192afe21648d47d2b4fa7a5a659ff443a0eb5 |  0.7 | Flora     | Female | 21 | NA | NA |\n",
       "| Regular |  TRUE | 7dc01f10bf20671ecfccdac23812b1b415acd42c2147cb0af4d48fcce2420f3e |  0.1 | Kylie     | Male   | 21 | NA | NA |\n",
       "| Amateur |  TRUE | f58aad5996a435f16b0284a3b267f973f9af99e7a89bee0430055a44fa92f977 |  0.0 | Adrian    | Female | 17 | NA | NA |\n",
       "| Regular |  TRUE | 8e594b8953193b26f498db95a508b03c6fe1c24bb5251d392c18a0da9a722807 |  0.0 | Luna      | Female | 19 | NA | NA |\n",
       "| Amateur | FALSE | 1d2371d8a35c8831034b25bda8764539ab7db0f63938696917c447128a2540dd |  0.0 | Emerson   | Male   | 21 | NA | NA |\n",
       "| Amateur |  TRUE | 8b71f4d66a38389b7528bb38ba6eb71157733df7d1740371852a797ae97d82d1 |  0.1 | Natalie   | Male   | 17 | NA | NA |\n",
       "| Veteran |  TRUE | bbe2d83de678f519c4b3daa7265e683b4fe2d814077f9094afd11d8f217039ec |  0.0 | Nyla      | Female | 22 | NA | NA |\n",
       "\n"
      ],
      "text/plain": [
       "   experience subscribe\n",
       "1  Pro         TRUE    \n",
       "2  Veteran     TRUE    \n",
       "3  Veteran    FALSE    \n",
       "4  Amateur     TRUE    \n",
       "5  Regular     TRUE    \n",
       "6  Amateur     TRUE    \n",
       "7  Regular     TRUE    \n",
       "8  Amateur    FALSE    \n",
       "9  Amateur     TRUE    \n",
       "10 Veteran     TRUE    \n",
       "   hashedEmail                                                     \n",
       "1  f6daba428a5e19a3d47574858c13550499be23603422e6a0ee9728f8b53e192d\n",
       "2  f3c813577c458ba0dfef80996f8f32c93b6e8af1fa939732842f2312358a88e9\n",
       "3  b674dd7ee0d24096d1c019615ce4d12b20fcbff12d79d3c5a9d2118eb7ccbb28\n",
       "4  23fe711e0e3b77f1da7aa221ab1192afe21648d47d2b4fa7a5a659ff443a0eb5\n",
       "5  7dc01f10bf20671ecfccdac23812b1b415acd42c2147cb0af4d48fcce2420f3e\n",
       "6  f58aad5996a435f16b0284a3b267f973f9af99e7a89bee0430055a44fa92f977\n",
       "7  8e594b8953193b26f498db95a508b03c6fe1c24bb5251d392c18a0da9a722807\n",
       "8  1d2371d8a35c8831034b25bda8764539ab7db0f63938696917c447128a2540dd\n",
       "9  8b71f4d66a38389b7528bb38ba6eb71157733df7d1740371852a797ae97d82d1\n",
       "10 bbe2d83de678f519c4b3daa7265e683b4fe2d814077f9094afd11d8f217039ec\n",
       "   played_hours name      gender age individualId organizationName\n",
       "1  30.3         Morgan    Male    9  NA           NA              \n",
       "2   3.8         Christian Male   17  NA           NA              \n",
       "3   0.0         Blake     Male   17  NA           NA              \n",
       "4   0.7         Flora     Female 21  NA           NA              \n",
       "5   0.1         Kylie     Male   21  NA           NA              \n",
       "6   0.0         Adrian    Female 17  NA           NA              \n",
       "7   0.0         Luna      Female 19  NA           NA              \n",
       "8   0.0         Emerson   Male   21  NA           NA              \n",
       "9   0.1         Natalie   Male   17  NA           NA              \n",
       "10  0.0         Nyla      Female 22  NA           NA              "
      ]
     },
     "metadata": {},
     "output_type": "display_data"
    }
   ],
   "source": [
    "# Constants\n",
    "url_players <- \"https://drive.google.com/uc?export=download&id=1Mw9vW0hjTJwRWx0bDXiSpYsO3gKogaPz\"\n",
    "\n",
    "# Reading in the data via URL\n",
    "mc_players <- read_csv(url_players)\n",
    "head(mc_players, 10)\n"
   ]
  },
  {
   "cell_type": "markdown",
   "id": "e2dd60e4-cc2d-4537-91cf-feb4516ca181",
   "metadata": {},
   "source": [
    "### (3) Data Wrangling\n",
    "Upon the initial examination, it is clear that the columns/variables `individualID` and `organizationName` provide no information as all values are `NA` values. Similarly, the `experience`, `subscribe`, `hashedEmail` and `name` were also removed using the `select()` function as these variables have no values in the question of this paper."
   ]
  },
  {
   "cell_type": "code",
   "execution_count": 3,
   "id": "4a07b534-256b-41a8-956b-f78c7dc2887e",
   "metadata": {},
   "outputs": [
    {
     "data": {
      "text/html": [
       "<table class=\"dataframe\">\n",
       "<caption>A tibble: 5 × 3</caption>\n",
       "<thead>\n",
       "\t<tr><th scope=col>played_hours</th><th scope=col>age</th><th scope=col>gender</th></tr>\n",
       "\t<tr><th scope=col>&lt;dbl&gt;</th><th scope=col>&lt;dbl&gt;</th><th scope=col>&lt;chr&gt;</th></tr>\n",
       "</thead>\n",
       "<tbody>\n",
       "\t<tr><td> 0.3</td><td> 8</td><td>Male</td></tr>\n",
       "\t<tr><td>30.3</td><td> 9</td><td>Male</td></tr>\n",
       "\t<tr><td> 3.6</td><td>10</td><td>Male</td></tr>\n",
       "\t<tr><td> 2.9</td><td>11</td><td>Male</td></tr>\n",
       "\t<tr><td> 0.5</td><td>12</td><td>Male</td></tr>\n",
       "</tbody>\n",
       "</table>\n"
      ],
      "text/latex": [
       "A tibble: 5 × 3\n",
       "\\begin{tabular}{lll}\n",
       " played\\_hours & age & gender\\\\\n",
       " <dbl> & <dbl> & <chr>\\\\\n",
       "\\hline\n",
       "\t  0.3 &  8 & Male\\\\\n",
       "\t 30.3 &  9 & Male\\\\\n",
       "\t  3.6 & 10 & Male\\\\\n",
       "\t  2.9 & 11 & Male\\\\\n",
       "\t  0.5 & 12 & Male\\\\\n",
       "\\end{tabular}\n"
      ],
      "text/markdown": [
       "\n",
       "A tibble: 5 × 3\n",
       "\n",
       "| played_hours &lt;dbl&gt; | age &lt;dbl&gt; | gender &lt;chr&gt; |\n",
       "|---|---|---|\n",
       "|  0.3 |  8 | Male |\n",
       "| 30.3 |  9 | Male |\n",
       "|  3.6 | 10 | Male |\n",
       "|  2.9 | 11 | Male |\n",
       "|  0.5 | 12 | Male |\n",
       "\n"
      ],
      "text/plain": [
       "  played_hours age gender\n",
       "1  0.3          8  Male  \n",
       "2 30.3          9  Male  \n",
       "3  3.6         10  Male  \n",
       "4  2.9         11  Male  \n",
       "5  0.5         12  Male  "
      ]
     },
     "metadata": {},
     "output_type": "display_data"
    }
   ],
   "source": [
    "# Remove unnecessary columns\n",
    "mc_cleaned <- mc_players |>\n",
    "    select(played_hours, age, gender) |>\n",
    "    arrange(age)\n",
    "head(mc_cleaned, 5) # shorten for easier preview"
   ]
  },
  {
   "cell_type": "markdown",
   "id": "f11cd03e-ea46-4df5-baca-fbfbeec38f65",
   "metadata": {},
   "source": [
    "Here we implemented a KNN regression model to predict total `playtime` based on the player's `age`.\n",
    "\n",
    "**Preprocessing**:\n",
    "  - Split the dataset into training (75%) and testing (25%) subsets, stratified by `played_hours`.\n",
    "  - Scaled and centered `age`.\n",
    "\n",
    "**Tuning**:\n",
    "  - Performed 10-fold cross-validation to tune the number of `neighbors` (1–100).\n",
    "  - Selected the model with the lowest RMSE.\n",
    "\n",
    "**Model Training and Prediction**:\n",
    "  - Trained the final KNN model with the optimal number of neighbors.\n",
    "\n",
    "**Visualization**:\n",
    "  - Created a scatter plot of actual vs. predicted `played_hours` against `age` with a fitted line.\n"
   ]
  },
  {
   "cell_type": "code",
   "execution_count": null,
   "id": "3d907022-4ac3-457c-b0c9-43c37e22ee8c",
   "metadata": {
    "scrolled": true
   },
   "outputs": [],
   "source": [
    "options(repr.plot.width = 12, repr.plot.height = 12)\n",
    "set.seed(1)\n",
    "\n",
    "mc_split <- initial_split(mc_cleaned, prop = 0.75, strata = played_hours)\n",
    "mc_train <- training(mc_split)\n",
    "mc_test <- testing(mc_split)\n",
    "\n",
    "mc_spec <- nearest_neighbor(weight_func = \"rectangular\", neighbors = tune()) |>\n",
    "    set_engine(\"kknn\") |>\n",
    "    set_mode(\"regression\") \n",
    "\n",
    "mc_recipe <- recipe(played_hours ~ age, data = mc_train) |>\n",
    "    step_scale(all_predictors()) |>\n",
    "    step_center(all_predictors())\n",
    "\n",
    "mc_vfold <- vfold_cv(mc_train, v = 10, strata = played_hours)\n",
    "\n",
    "gridvals <- tibble(neighbors = seq(from = 1, to = 100, by = 1)) \n",
    "\n",
    "mc_wkflw <- workflow() |>\n",
    "    add_model(mc_spec) |>\n",
    "    add_recipe(mc_recipe) \n",
    "\n",
    "mc_results <- mc_wkflw |>\n",
    "  tune_grid(resamples = mc_vfold, grid = gridvals) |>\n",
    "  collect_metrics() |>\n",
    "  filter(.metric == \"rmse\")\n",
    "\n",
    "# show only the row of minimum RMSPE\n",
    "mc_min <- mc_results |>\n",
    "    slice_min(mean, n = 1) |>\n",
    "    pull(neighbors)\n",
    "mc_min\n",
    "\n",
    "mc_spec_2 <- nearest_neighbor(weight_func = \"rectangular\", neighbors = mc_min) |>\n",
    "    set_engine(\"kknn\") |>\n",
    "    set_mode(\"regression\") \n",
    "\n",
    "mc_fit <- workflow() |>\n",
    "    add_recipe(mc_recipe) |>\n",
    "    add_model(mc_spec_2) |>\n",
    "    fit(data = mc_train) \n",
    "\n",
    "mc_preds <- mc_fit |>\n",
    "  predict(mc_train) |>\n",
    "  bind_cols(mc_train)\n",
    "\n",
    "\n",
    "mc_plot_final <- ggplot(mc_preds, aes(x = age, y = played_hours)) +\n",
    "    geom_point(alpha = 0.4) +\n",
    "    geom_line(data = mc_preds,\n",
    "              mapping = aes(x = age, y = .pred),\n",
    "              color = \"steelblue\",\n",
    "              linewidth = 1) +\n",
    "    labs(x = \"Age of the Player\",\n",
    "         y = \"Hours Played (hr)\",\n",
    "        title = \"Figure 1: Hours Played (hr) vs. Age of the Player\") +\n",
    "    theme(text = element_text(size = 14))\n",
    "mc_plot_final"
   ]
  },
  {
   "cell_type": "code",
   "execution_count": null,
   "id": "7737c04f-80d1-499e-aab2-18bfc671d008",
   "metadata": {
    "scrolled": true
   },
   "outputs": [],
   "source": [
    "RMSPE <- mc_fit |>\n",
    "    predict(mc_test) |>\n",
    "    bind_cols(mc_test) |>\n",
    "    metrics(truth = played_hours, estimate = .pred) |>\n",
    "    filter(.metric == \"rmse\") |>\n",
    "    select(.estimate) |>\n",
    "    pull()\n",
    "RMSPE\n",
    "\n",
    "\n",
    "\n"
   ]
  },
  {
   "cell_type": "markdown",
   "id": "1f7c813f-6e59-48ef-8a84-59daa4142378",
   "metadata": {},
   "source": [
    "### (4) Some Calculations (and Visualization)"
   ]
  },
  {
   "cell_type": "markdown",
   "id": "47084641-6f91-47f1-b984-fa39ef3e9d16",
   "metadata": {},
   "source": [
    "# To-Do\n",
    "\n",
    "**Victor**\n",
    "- [ ] Re-do the introduction with the newer questions + describe the second data set\n",
    "- [ ] Clean up the comments + make graph looks better + add in comment for codes readability \n",
    "\n",
    "**Andy**\n",
    "- [ ] Methods & Results: (the rest bullet of points)\n",
    "\n",
    "**Jack**\n",
    "- [ ] Methods & Results: Descriptions (first bullet point)\n",
    "\n",
    "**Danny**\n",
    "- [ ] Discussion"
   ]
  },
  {
   "cell_type": "markdown",
   "id": "3e7c5c67-0ce8-481c-a47c-d5816a4ae241",
   "metadata": {},
   "source": [
    "## References\n",
    "- Alonso-Fernández, C., Calvo-Morata, A., Freire, M., Iván Martínez-Ortiz, & Baltasar Fernández-Manjón. (2019). Applications of data science to game learning analytics data: A systematic literature review. Computers & Education, 141, 103612. <https://doi.org/10.1016/j.compedu.2019.103612> \n",
    "\n",
    "- Johannes, N., Vuorre, M., & Przybylski, A. K. (2021). Video game play is positively correlated with well-being. Royal Society Open Science, 8(2), 202049. https://doi.org/10.1098/rsos.202049\n",
    "\n",
    "- Jordan, T., & Dhamala, M. (2022). Video game players have improved decision-making abilities and enhanced brain activities. Neuroimage: Reports, 2(3), 100112. <https://doi.org/10.1016/j.ynirp.2022.100112> \n",
    "\n",
    "- Petri, G., & Gresse, C. (2017). How games for computing education are evaluated? A systematic literature review. Computers & Education, 107, 68--90. <https://doi.org/10.1016/j.compedu.2017.01.004>"
   ]
  }
 ],
 "metadata": {
  "kernelspec": {
   "display_name": "R",
   "language": "R",
   "name": "ir"
  },
  "language_info": {
   "codemirror_mode": "r",
   "file_extension": ".r",
   "mimetype": "text/x-r-source",
   "name": "R",
   "pygments_lexer": "r",
   "version": "4.3.3"
  }
 },
 "nbformat": 4,
 "nbformat_minor": 5
}
